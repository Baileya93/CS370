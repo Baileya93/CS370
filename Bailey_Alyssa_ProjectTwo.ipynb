{
 "cells": [
  {
   "cell_type": "markdown",
   "metadata": {},
   "source": [
    "# Treasure Hunt Game Notebook\n",
    "\n",
    "## Read and Review Your Starter Code\n",
    "The theme of this project is a popular treasure hunt game in which the player needs to find the treasure before the pirate does. While you will not be developing the entire game, you will write the part of the game that represents the intelligent agent, which is a pirate in this case. The pirate will try to find the optimal path to the treasure using deep Q-learning. \n",
    "\n",
    "You have been provided with two Python classes and this notebook to help you with this assignment. The first class, TreasureMaze.py, represents the environment, which includes a maze object defined as a matrix. The second class, GameExperience.py, stores the episodes – that is, all the states that come in between the initial state and the terminal state. This is later used by the agent for learning by experience, called \"exploration\". This notebook shows how to play a game. Your task is to complete the deep Q-learning implementation for which a skeleton implementation has been provided. The code blocks you will need to complete has #TODO as a header.\n",
    "\n",
    "First, read and review the next few code and instruction blocks to understand the code that you have been given."
   ]
  },
  {
   "cell_type": "code",
   "execution_count": 1,
   "metadata": {},
   "outputs": [
    {
     "name": "stderr",
     "output_type": "stream",
     "text": [
      "Using TensorFlow backend.\n"
     ]
    }
   ],
   "source": [
    "from __future__ import print_function\n",
    "import os, sys, time, datetime, json, random\n",
    "import numpy as np\n",
    "from keras.models import Sequential\n",
    "from keras.layers.core import Dense, Activation\n",
    "from keras.optimizers import SGD , Adam, RMSprop\n",
    "from keras.layers.advanced_activations import PReLU\n",
    "import matplotlib.pyplot as plt\n",
    "from TreasureMaze import TreasureMaze\n",
    "from GameExperience import GameExperience\n",
    "%matplotlib inline"
   ]
  },
  {
   "cell_type": "markdown",
   "metadata": {},
   "source": [
    "The following code block contains an 8x8 matrix that will be used as a maze object:"
   ]
  },
  {
   "cell_type": "code",
   "execution_count": 2,
   "metadata": {},
   "outputs": [],
   "source": [
    "maze = np.array([\n",
    "    [ 1.,  0.,  1.,  1.,  1.,  1.,  1.,  1.],\n",
    "    [ 1.,  0.,  1.,  1.,  1.,  0.,  1.,  1.],\n",
    "    [ 1.,  1.,  1.,  1.,  0.,  1.,  0.,  1.],\n",
    "    [ 1.,  1.,  1.,  0.,  1.,  1.,  1.,  1.],\n",
    "    [ 1.,  1.,  0.,  1.,  1.,  1.,  1.,  1.],\n",
    "    [ 1.,  1.,  1.,  0.,  1.,  0.,  0.,  0.],\n",
    "    [ 1.,  1.,  1.,  0.,  1.,  1.,  1.,  1.],\n",
    "    [ 1.,  1.,  1.,  1.,  0.,  1.,  1.,  1.]\n",
    "])"
   ]
  },
  {
   "cell_type": "markdown",
   "metadata": {},
   "source": [
    "This helper function allows a visual representation of the maze object:"
   ]
  },
  {
   "cell_type": "code",
   "execution_count": 3,
   "metadata": {},
   "outputs": [],
   "source": [
    "def show(qmaze):\n",
    "    plt.grid('on')\n",
    "    nrows, ncols = qmaze.maze.shape\n",
    "    ax = plt.gca()\n",
    "    ax.set_xticks(np.arange(0.5, nrows, 1))\n",
    "    ax.set_yticks(np.arange(0.5, ncols, 1))\n",
    "    ax.set_xticklabels([])\n",
    "    ax.set_yticklabels([])\n",
    "    canvas = np.copy(qmaze.maze)\n",
    "    for row,col in qmaze.visited:\n",
    "        canvas[row,col] = 0.6\n",
    "    pirate_row, pirate_col, _ = qmaze.state\n",
    "    canvas[pirate_row, pirate_col] = 0.3   # pirate cell\n",
    "    canvas[nrows-1, ncols-1] = 0.9 # treasure cell\n",
    "    img = plt.imshow(canvas, interpolation='none', cmap='gray')\n",
    "    return img"
   ]
  },
  {
   "cell_type": "markdown",
   "metadata": {},
   "source": [
    "The pirate agent can move in four directions: left, right, up, and down. \n",
    "\n",
    "While the agent primarily learns by experience through exploitation, often, the agent can choose to explore the environment to find previously undiscovered paths. This is called \"exploration\" and is defined by epsilon. This value is typically a lower value such as 0.1, which means for every ten attempts, the agent will attempt to learn by experience nine times and will randomly explore a new path one time. You are encouraged to try various values for the exploration factor and see how the algorithm performs."
   ]
  },
  {
   "cell_type": "code",
   "execution_count": 4,
   "metadata": {},
   "outputs": [],
   "source": [
    "LEFT = 0\n",
    "UP = 1\n",
    "RIGHT = 2\n",
    "DOWN = 3\n",
    "\n",
    "\n",
    "# Exploration factor\n",
    "epsilon = 0.1\n",
    "\n",
    "# Actions dictionary\n",
    "actions_dict = {\n",
    "    LEFT: 'left',\n",
    "    UP: 'up',\n",
    "    RIGHT: 'right',\n",
    "    DOWN: 'down',\n",
    "}\n",
    "\n",
    "num_actions = len(actions_dict)\n"
   ]
  },
  {
   "cell_type": "markdown",
   "metadata": {},
   "source": [
    "The sample code block and output below show creating a maze object and performing one action (DOWN), which returns the reward. The resulting updated environment is visualized."
   ]
  },
  {
   "cell_type": "code",
   "execution_count": 5,
   "metadata": {},
   "outputs": [
    {
     "name": "stdout",
     "output_type": "stream",
     "text": [
      "reward= -0.04\n"
     ]
    },
    {
     "data": {
      "text/plain": [
       "<matplotlib.image.AxesImage at 0x150586d2208>"
      ]
     },
     "execution_count": 5,
     "metadata": {},
     "output_type": "execute_result"
    },
    {
     "data": {
      "image/png": "[encoded data removed]",
      "text/plain": [
       "<Figure size 432x288 with 1 Axes>"
      ]
     },
     "metadata": {
      "needs_background": "light"
     },
     "output_type": "display_data"
    }
   ],
   "source": [
    "qmaze = TreasureMaze(maze)\n",
    "canvas, reward, game_over = qmaze.act(DOWN)\n",
    "print(\"reward=\", reward)\n",
    "show(qmaze)"
   ]
  },
  {
   "cell_type": "markdown",
   "metadata": {},
   "source": [
    "This function simulates a full game based on the provided trained model. The other parameters include the TreasureMaze object and the starting position of the pirate."
   ]
  },
  {
   "cell_type": "code",
   "execution_count": 6,
   "metadata": {},
   "outputs": [],
   "source": [
    "def play_game(model, qmaze, pirate_cell):\n",
    "    qmaze.reset(pirate_cell)\n",
    "    envstate = qmaze.observe()\n",
    "    while True:\n",
    "        prev_envstate = envstate\n",
    "        # get next action\n",
    "        q = model.predict(prev_envstate)\n",
    "        action = np.argmax(q[0])\n",
    "\n",
    "        # apply action, get rewards and new state\n",
    "        envstate, reward, game_status = qmaze.act(action)\n",
    "        if game_status == 'win':\n",
    "            return True\n",
    "        elif game_status == 'lose':\n",
    "            return False"
   ]
  },
  {
   "cell_type": "markdown",
   "metadata": {},
   "source": [
    "This function helps you to determine whether the pirate can win any game at all. If your maze is not well designed, the pirate may not win any game at all. In this case, your training would not yield any result. The provided maze in this notebook ensures that there is a path to win and you can run this method to check."
   ]
  },
  {
   "cell_type": "code",
   "execution_count": 7,
   "metadata": {},
   "outputs": [],
   "source": [
    "def completion_check(model, qmaze):\n",
    "    for cell in qmaze.free_cells:\n",
    "        if not qmaze.valid_actions(cell):\n",
    "            return False\n",
    "        if not play_game(model, qmaze, cell):\n",
    "            return False\n",
    "    return True"
   ]
  },
  {
   "cell_type": "markdown",
   "metadata": {},
   "source": [
    "The code you have been given in this block will build the neural network model. Review the code and note the number of layers, as well as the activation, optimizer, and loss functions that are used to train the model."
   ]
  },
  {
   "cell_type": "code",
   "execution_count": 8,
   "metadata": {},
   "outputs": [],
   "source": [
    "def build_model(maze):\n",
    "    model = Sequential()\n",
    "    model.add(Dense(maze.size, input_shape=(maze.size,)))\n",
    "    model.add(PReLU())\n",
    "    model.add(Dense(maze.size))\n",
    "    model.add(PReLU())\n",
    "    model.add(Dense(num_actions))\n",
    "    model.compile(optimizer='adam', loss='mse')\n",
    "    return model"
   ]
  },
  {
   "cell_type": "markdown",
   "metadata": {},
   "source": [
    "# #TODO: Complete the Q-Training Algorithm Code Block\n",
    "\n",
    "This is your deep Q-learning implementation. The goal of your deep Q-learning implementation is to find the best possible navigation sequence that results in reaching the treasure cell while maximizing the reward. In your implementation, you need to determine the optimal number of epochs to achieve a 100% win rate.\n",
    "\n",
    "You will need to complete the section starting with #pseudocode. The pseudocode has been included for you."
   ]
  },
  {
   "cell_type": "code",
   "execution_count": 9,
   "metadata": {},
   "outputs": [],
   "source": [
    "def qtrain(model, maze, **opt):\n",
    "\n",
    "    # exploration factor\n",
    "    global epsilon \n",
    "    epsilon = opt.get('epsilon', 1.0)\n",
    "\n",
    "    # number of epochs\n",
    "    n_epoch = opt.get('n_epoch', 15000)\n",
    "\n",
    "    # maximum memory to store episodes\n",
    "    max_memory = opt.get('max_memory', 1000)\n",
    "\n",
    "    # maximum data size for training\n",
    "    data_size = opt.get('data_size', 50)\n",
    "\n",
    "    # start time\n",
    "    start_time = datetime.datetime.now()\n",
    "\n",
    "    # Construct environment/game from numpy array: maze (see above)\n",
    "    qmaze = TreasureMaze(maze)\n",
    "\n",
    "    # Initialize experience replay object\n",
    "    experience = GameExperience(model, max_memory=max_memory)\n",
    "    \n",
    "    win_history = []   # history of win/lose game\n",
    "    hsize = qmaze.maze.size // 2   # history window size\n",
    "    win_rate = 0.0\n",
    "    \n",
    "    for epoch in range(n_epoch):\n",
    "        # Reset the maze to a random free cell\n",
    "        agent_cell = qmaze.free_cells[np.random.randint(0, len(qmaze.free_cells))]\n",
    "        \n",
    "        qmaze.reset(agent_cell)\n",
    "        envstate = qmaze.observe()\n",
    "        \n",
    "        n_episodes = 0\n",
    "        loss = 0.0\n",
    "        \n",
    "        while True:\n",
    "            previous_envstate = envstate\n",
    "            \n",
    "            if np.random.rand() < epsilon:\n",
    "                action = np.random.choice([LEFT, UP, RIGHT, DOWN])\n",
    "            else:\n",
    "                #action with highest Q-value\n",
    "                q = model.predict(previous_envstate)\n",
    "                action = np.argmax(q[0])\n",
    "                \n",
    "            #Observe enviornment\n",
    "            envstate_new, reward, game_status = qmaze.act(action)\n",
    "            \n",
    "            # Episode\n",
    "            episode = [previous_envstate, action, reward, envstate, game_status]\n",
    "            \n",
    "            #Storing episode\n",
    "            experience.remember(episode)\n",
    "                 \n",
    "            #Train model\n",
    "            inputs, targets = experience.get_data(data_size=data_size)\n",
    "            if inputs is not None:\n",
    "                loss += model.train_on_batch(inputs, targets)\n",
    "                                \n",
    "            # Increment episode counter\n",
    "            n_episodes += 1\n",
    "                                \n",
    "           # Check game status\n",
    "            if game_status == 'win':\n",
    "                win_history.append(1)\n",
    "                win_rate = sum(win_history[-hsize:]) / hsize\n",
    "                break\n",
    "            elif game_status == 'lose':\n",
    "                win_history.append(0)\n",
    "                win_rate = sum(win_history[-hsize:])\n",
    "                break\n",
    "                                \n",
    "\n",
    "                            \n",
    "    # Print epoch details\n",
    "        dt = datetime.datetime.now() - start_time\n",
    "        t = format_time(dt.total_seconds())\n",
    "        template = \"Epoch: {:03d}/{:d} | Loss: {:.4f} | Episodes: {:d} | Win count: {:d} | Win rate: {:.3f} | time: {}\"\n",
    "        print(template.format(epoch, n_epoch-1, loss, n_episodes, sum(win_history), win_rate, t))\n",
    "                                \n",
    "    # Check conditions for adjusting epsioln and completing training\n",
    "        if win_rate > 0.9:\n",
    "            epsilon = 0.05\n",
    "        if sum(win_history[-hsize:]) == hsize and completion_check(model, qmaze):\n",
    "            print(\"Reached 100% win rate at epoch: %d\" % (epoch,))\n",
    "            break\n",
    "                                \n",
    "    # Determining training time\n",
    "    dt = datetime.datetime.now() - start_time\n",
    "    seconds = dt.total_seconds()\n",
    "    t = format_time(seconds)\n",
    "                                \n",
    "    print(\"n_epoch: %d, max_mem: %d, data: %d, time: %s\" % (epoch, max_memory, data_size, t))\n",
    "    return seconds\n",
    "\n",
    "    \n",
    "\n",
    "# This is a small utility for printing readable time strings:\n",
    "def format_time(seconds):\n",
    "    if seconds < 400:\n",
    "        s = float(seconds)\n",
    "        return \"%.1f seconds\" % (s,)\n",
    "    elif seconds < 4000:\n",
    "        m = seconds / 60.0\n",
    "        return \"%.2f minutes\" % (m,)\n",
    "    else:\n",
    "        h = seconds / 3600.0\n",
    "        return \"%.2f hours\" % (h,)"
   ]
  },
  {
   "cell_type": "markdown",
   "metadata": {},
   "source": [
    "## Test Your Model\n",
    "\n",
    "Now we will start testing the deep Q-learning implementation. To begin, select **Cell**, then **Run All** from the menu bar. This will run your notebook. As it runs, you should see output begin to appear beneath the next few cells. The code below creates an instance of TreasureMaze."
   ]
  },
  {
   "cell_type": "code",
   "execution_count": 10,
   "metadata": {},
   "outputs": [
    {
     "data": {
      "text/plain": [
       "<matplotlib.image.AxesImage at 0x15059d56688>"
      ]
     },
     "execution_count": 10,
     "metadata": {},
     "output_type": "execute_result"
    },
    {
     "data": {
      "image/png": "[encoded data removed]",
      "text/plain": [
       "<Figure size 432x288 with 1 Axes>"
      ]
     },
     "metadata": {
      "needs_background": "light"
     },
     "output_type": "display_data"
    }
   ],
   "source": [
    "qmaze = TreasureMaze(maze)\n",
    "show(qmaze)"
   ]
  },
  {
   "cell_type": "markdown",
   "metadata": {},
   "source": [
    "In the next code block, you will build your model and train it using deep Q-learning. Note: This step takes several minutes to fully run."
   ]
  },
  {
   "cell_type": "code",
   "execution_count": null,
   "metadata": {},
   "outputs": [
    {
     "name": "stdout",
     "output_type": "stream",
     "text": [
      "Epoch: 000/14999 | Loss: 1.6172 | Episodes: 146 | Win count: 0 | Win rate: 0.000 | time: 16.3 seconds\n",
      "Epoch: 001/14999 | Loss: 0.2309 | Episodes: 142 | Win count: 0 | Win rate: 0.000 | time: 31.8 seconds\n",
      "Epoch: 002/14999 | Loss: 0.2392 | Episodes: 143 | Win count: 0 | Win rate: 0.000 | time: 48.6 seconds\n",
      "Epoch: 003/14999 | Loss: 0.1776 | Episodes: 138 | Win count: 0 | Win rate: 0.000 | time: 61.2 seconds\n",
      "Epoch: 004/14999 | Loss: 0.0027 | Episodes: 3 | Win count: 1 | Win rate: 0.031 | time: 61.4 seconds\n",
      "Epoch: 005/14999 | Loss: 0.3222 | Episodes: 146 | Win count: 1 | Win rate: 1.000 | time: 74.6 seconds\n",
      "Epoch: 006/14999 | Loss: 0.2528 | Episodes: 139 | Win count: 1 | Win rate: 1.000 | time: 87.0 seconds\n",
      "Epoch: 007/14999 | Loss: 0.2018 | Episodes: 133 | Win count: 1 | Win rate: 1.000 | time: 102.5 seconds\n",
      "Epoch: 008/14999 | Loss: 0.2078 | Episodes: 140 | Win count: 1 | Win rate: 1.000 | time: 117.6 seconds\n",
      "Epoch: 009/14999 | Loss: 0.1156 | Episodes: 134 | Win count: 1 | Win rate: 1.000 | time: 132.4 seconds\n",
      "Epoch: 010/14999 | Loss: 0.0822 | Episodes: 135 | Win count: 1 | Win rate: 1.000 | time: 147.8 seconds\n",
      "Epoch: 011/14999 | Loss: 0.0993 | Episodes: 136 | Win count: 1 | Win rate: 1.000 | time: 163.8 seconds\n",
      "Epoch: 012/14999 | Loss: 0.1010 | Episodes: 139 | Win count: 1 | Win rate: 1.000 | time: 179.2 seconds\n",
      "Epoch: 013/14999 | Loss: 0.1053 | Episodes: 137 | Win count: 1 | Win rate: 1.000 | time: 196.3 seconds\n",
      "Epoch: 014/14999 | Loss: 0.0010 | Episodes: 1 | Win count: 2 | Win rate: 0.062 | time: 196.4 seconds\n",
      "Epoch: 015/14999 | Loss: 0.1957 | Episodes: 135 | Win count: 2 | Win rate: 2.000 | time: 211.4 seconds\n",
      "Epoch: 016/14999 | Loss: 0.2661 | Episodes: 139 | Win count: 2 | Win rate: 2.000 | time: 226.9 seconds\n",
      "Epoch: 017/14999 | Loss: 0.1722 | Episodes: 93 | Win count: 3 | Win rate: 0.094 | time: 238.0 seconds\n",
      "Epoch: 018/14999 | Loss: 0.2928 | Episodes: 136 | Win count: 3 | Win rate: 3.000 | time: 249.8 seconds\n",
      "Epoch: 019/14999 | Loss: 0.2363 | Episodes: 150 | Win count: 3 | Win rate: 3.000 | time: 266.7 seconds\n",
      "Epoch: 020/14999 | Loss: 0.2594 | Episodes: 141 | Win count: 3 | Win rate: 3.000 | time: 281.5 seconds\n",
      "Epoch: 021/14999 | Loss: 0.2596 | Episodes: 143 | Win count: 3 | Win rate: 3.000 | time: 294.1 seconds\n",
      "Epoch: 022/14999 | Loss: 0.1737 | Episodes: 140 | Win count: 3 | Win rate: 3.000 | time: 306.4 seconds\n",
      "Epoch: 023/14999 | Loss: 0.0009 | Episodes: 1 | Win count: 4 | Win rate: 0.125 | time: 306.5 seconds\n",
      "Epoch: 024/14999 | Loss: 0.2481 | Episodes: 143 | Win count: 4 | Win rate: 4.000 | time: 318.9 seconds\n",
      "Epoch: 025/14999 | Loss: 0.2644 | Episodes: 139 | Win count: 4 | Win rate: 4.000 | time: 329.6 seconds\n",
      "Epoch: 026/14999 | Loss: 0.2647 | Episodes: 124 | Win count: 5 | Win rate: 0.156 | time: 340.9 seconds\n",
      "Epoch: 027/14999 | Loss: 0.3826 | Episodes: 144 | Win count: 5 | Win rate: 5.000 | time: 353.0 seconds\n",
      "Epoch: 028/14999 | Loss: 0.2049 | Episodes: 139 | Win count: 5 | Win rate: 5.000 | time: 364.3 seconds\n",
      "Epoch: 029/14999 | Loss: 0.0654 | Episodes: 45 | Win count: 6 | Win rate: 0.188 | time: 368.1 seconds\n",
      "Epoch: 030/14999 | Loss: 0.3710 | Episodes: 149 | Win count: 6 | Win rate: 6.000 | time: 380.8 seconds\n",
      "Epoch: 031/14999 | Loss: 0.3149 | Episodes: 139 | Win count: 6 | Win rate: 6.000 | time: 392.8 seconds\n",
      "Epoch: 032/14999 | Loss: 0.3598 | Episodes: 151 | Win count: 6 | Win rate: 6.000 | time: 6.78 minutes\n",
      "Epoch: 033/14999 | Loss: 0.2582 | Episodes: 144 | Win count: 6 | Win rate: 6.000 | time: 7.01 minutes\n",
      "Epoch: 034/14999 | Loss: 0.1735 | Episodes: 137 | Win count: 6 | Win rate: 6.000 | time: 7.22 minutes\n",
      "Epoch: 035/14999 | Loss: 0.1957 | Episodes: 147 | Win count: 6 | Win rate: 6.000 | time: 7.43 minutes\n",
      "Epoch: 036/14999 | Loss: 0.1799 | Episodes: 144 | Win count: 6 | Win rate: 5.000 | time: 7.64 minutes\n",
      "Epoch: 037/14999 | Loss: 0.1626 | Episodes: 142 | Win count: 6 | Win rate: 5.000 | time: 7.84 minutes\n",
      "Epoch: 038/14999 | Loss: 0.1590 | Episodes: 139 | Win count: 6 | Win rate: 5.000 | time: 8.04 minutes\n",
      "Epoch: 039/14999 | Loss: 0.1600 | Episodes: 140 | Win count: 6 | Win rate: 5.000 | time: 8.27 minutes\n",
      "Epoch: 040/14999 | Loss: 0.1319 | Episodes: 134 | Win count: 6 | Win rate: 5.000 | time: 8.52 minutes\n",
      "Epoch: 041/14999 | Loss: 0.1184 | Episodes: 146 | Win count: 6 | Win rate: 5.000 | time: 8.88 minutes\n",
      "Epoch: 042/14999 | Loss: 0.0870 | Episodes: 94 | Win count: 7 | Win rate: 0.188 | time: 9.03 minutes\n",
      "Epoch: 043/14999 | Loss: 0.0445 | Episodes: 38 | Win count: 8 | Win rate: 0.219 | time: 9.09 minutes\n",
      "Epoch: 044/14999 | Loss: 0.3606 | Episodes: 134 | Win count: 8 | Win rate: 7.000 | time: 9.38 minutes\n",
      "Epoch: 045/14999 | Loss: 0.3514 | Episodes: 141 | Win count: 8 | Win rate: 7.000 | time: 9.71 minutes\n",
      "Epoch: 046/14999 | Loss: 0.3707 | Episodes: 140 | Win count: 8 | Win rate: 6.000 | time: 9.99 minutes\n",
      "Epoch: 047/14999 | Loss: 0.1831 | Episodes: 133 | Win count: 8 | Win rate: 6.000 | time: 10.26 minutes\n",
      "Epoch: 048/14999 | Loss: 0.1170 | Episodes: 137 | Win count: 8 | Win rate: 6.000 | time: 10.54 minutes\n",
      "Epoch: 049/14999 | Loss: 0.1149 | Episodes: 139 | Win count: 8 | Win rate: 5.000 | time: 10.82 minutes\n",
      "Epoch: 050/14999 | Loss: 0.0863 | Episodes: 135 | Win count: 8 | Win rate: 5.000 | time: 11.02 minutes\n",
      "Epoch: 051/14999 | Loss: 0.1100 | Episodes: 138 | Win count: 8 | Win rate: 5.000 | time: 11.25 minutes\n",
      "Epoch: 052/14999 | Loss: 0.1118 | Episodes: 138 | Win count: 8 | Win rate: 5.000 | time: 11.51 minutes\n",
      "Epoch: 053/14999 | Loss: 0.0672 | Episodes: 94 | Win count: 9 | Win rate: 0.188 | time: 11.70 minutes\n",
      "Epoch: 054/14999 | Loss: 0.1892 | Episodes: 136 | Win count: 9 | Win rate: 6.000 | time: 11.96 minutes\n",
      "Epoch: 055/14999 | Loss: 0.2652 | Episodes: 138 | Win count: 9 | Win rate: 5.000 | time: 12.22 minutes\n",
      "Epoch: 056/14999 | Loss: 0.1675 | Episodes: 141 | Win count: 9 | Win rate: 5.000 | time: 12.49 minutes\n",
      "Epoch: 057/14999 | Loss: 0.1676 | Episodes: 140 | Win count: 9 | Win rate: 5.000 | time: 12.74 minutes\n",
      "Epoch: 058/14999 | Loss: 0.1422 | Episodes: 141 | Win count: 9 | Win rate: 4.000 | time: 13.03 minutes\n",
      "Epoch: 059/14999 | Loss: 0.1676 | Episodes: 145 | Win count: 9 | Win rate: 4.000 | time: 13.32 minutes\n",
      "Epoch: 060/14999 | Loss: 0.1543 | Episodes: 137 | Win count: 9 | Win rate: 4.000 | time: 13.61 minutes\n",
      "Epoch: 061/14999 | Loss: 0.1611 | Episodes: 144 | Win count: 9 | Win rate: 3.000 | time: 13.89 minutes\n",
      "Epoch: 062/14999 | Loss: 0.1402 | Episodes: 137 | Win count: 9 | Win rate: 3.000 | time: 14.18 minutes\n",
      "Epoch: 063/14999 | Loss: 0.1232 | Episodes: 135 | Win count: 9 | Win rate: 3.000 | time: 14.45 minutes\n",
      "Epoch: 064/14999 | Loss: 0.0276 | Episodes: 33 | Win count: 10 | Win rate: 0.125 | time: 14.52 minutes\n",
      "Epoch: 065/14999 | Loss: 0.2626 | Episodes: 140 | Win count: 10 | Win rate: 4.000 | time: 14.78 minutes\n",
      "Epoch: 066/14999 | Loss: 0.2506 | Episodes: 137 | Win count: 10 | Win rate: 4.000 | time: 15.05 minutes\n",
      "Epoch: 067/14999 | Loss: 0.2227 | Episodes: 134 | Win count: 10 | Win rate: 4.000 | time: 15.31 minutes\n",
      "Epoch: 068/14999 | Loss: 0.1313 | Episodes: 136 | Win count: 10 | Win rate: 4.000 | time: 15.59 minutes\n",
      "Epoch: 069/14999 | Loss: 0.1002 | Episodes: 138 | Win count: 10 | Win rate: 4.000 | time: 15.86 minutes\n",
      "Epoch: 070/14999 | Loss: 0.1040 | Episodes: 144 | Win count: 10 | Win rate: 4.000 | time: 16.14 minutes\n",
      "Epoch: 071/14999 | Loss: 0.1087 | Episodes: 139 | Win count: 10 | Win rate: 4.000 | time: 16.41 minutes\n",
      "Epoch: 072/14999 | Loss: 0.1442 | Episodes: 139 | Win count: 10 | Win rate: 4.000 | time: 16.67 minutes\n",
      "Epoch: 073/14999 | Loss: 0.1534 | Episodes: 139 | Win count: 10 | Win rate: 4.000 | time: 16.91 minutes\n",
      "Epoch: 074/14999 | Loss: 0.1392 | Episodes: 139 | Win count: 10 | Win rate: 3.000 | time: 17.17 minutes\n",
      "Epoch: 075/14999 | Loss: 0.1270 | Episodes: 137 | Win count: 10 | Win rate: 2.000 | time: 17.42 minutes\n",
      "Epoch: 076/14999 | Loss: 0.1180 | Episodes: 137 | Win count: 10 | Win rate: 2.000 | time: 17.69 minutes\n",
      "Epoch: 077/14999 | Loss: 0.1016 | Episodes: 136 | Win count: 10 | Win rate: 2.000 | time: 17.96 minutes\n",
      "Epoch: 078/14999 | Loss: 0.1045 | Episodes: 144 | Win count: 10 | Win rate: 2.000 | time: 18.25 minutes\n",
      "Epoch: 079/14999 | Loss: 0.1223 | Episodes: 140 | Win count: 10 | Win rate: 2.000 | time: 18.53 minutes\n",
      "Epoch: 080/14999 | Loss: 0.1274 | Episodes: 138 | Win count: 10 | Win rate: 2.000 | time: 18.79 minutes\n",
      "Epoch: 081/14999 | Loss: 0.1310 | Episodes: 137 | Win count: 10 | Win rate: 2.000 | time: 19.06 minutes\n",
      "Epoch: 082/14999 | Loss: 0.1426 | Episodes: 139 | Win count: 10 | Win rate: 2.000 | time: 19.34 minutes\n",
      "Epoch: 083/14999 | Loss: 0.1158 | Episodes: 136 | Win count: 10 | Win rate: 2.000 | time: 19.61 minutes\n",
      "Epoch: 084/14999 | Loss: 0.1267 | Episodes: 147 | Win count: 10 | Win rate: 2.000 | time: 19.91 minutes\n",
      "Epoch: 085/14999 | Loss: 0.1395 | Episodes: 143 | Win count: 10 | Win rate: 1.000 | time: 20.22 minutes\n",
      "Epoch: 086/14999 | Loss: 0.0737 | Episodes: 72 | Win count: 11 | Win rate: 0.062 | time: 20.38 minutes\n",
      "Epoch: 087/14999 | Loss: 0.2453 | Episodes: 140 | Win count: 11 | Win rate: 2.000 | time: 20.66 minutes\n",
      "Epoch: 088/14999 | Loss: 0.3038 | Episodes: 129 | Win count: 11 | Win rate: 2.000 | time: 20.93 minutes\n",
      "Epoch: 089/14999 | Loss: 0.3553 | Episodes: 147 | Win count: 11 | Win rate: 2.000 | time: 21.24 minutes\n",
      "Epoch: 090/14999 | Loss: 0.1382 | Episodes: 138 | Win count: 11 | Win rate: 2.000 | time: 21.52 minutes\n",
      "Epoch: 091/14999 | Loss: 0.0750 | Episodes: 89 | Win count: 12 | Win rate: 0.094 | time: 21.71 minutes\n",
      "Epoch: 092/14999 | Loss: 0.2320 | Episodes: 147 | Win count: 12 | Win rate: 3.000 | time: 21.96 minutes\n",
      "Epoch: 093/14999 | Loss: 0.2025 | Episodes: 135 | Win count: 12 | Win rate: 3.000 | time: 22.18 minutes\n",
      "Epoch: 094/14999 | Loss: 0.2292 | Episodes: 133 | Win count: 12 | Win rate: 3.000 | time: 22.44 minutes\n",
      "Epoch: 095/14999 | Loss: 0.1532 | Episodes: 135 | Win count: 12 | Win rate: 3.000 | time: 22.67 minutes\n",
      "Epoch: 096/14999 | Loss: 0.1004 | Episodes: 138 | Win count: 12 | Win rate: 2.000 | time: 22.93 minutes\n",
      "Epoch: 097/14999 | Loss: 0.1056 | Episodes: 146 | Win count: 12 | Win rate: 2.000 | time: 23.18 minutes\n",
      "Epoch: 098/14999 | Loss: 0.1383 | Episodes: 139 | Win count: 12 | Win rate: 2.000 | time: 23.47 minutes\n",
      "Epoch: 099/14999 | Loss: 0.0516 | Episodes: 50 | Win count: 13 | Win rate: 0.094 | time: 23.57 minutes\n",
      "Epoch: 100/14999 | Loss: 0.1911 | Episodes: 133 | Win count: 13 | Win rate: 3.000 | time: 23.82 minutes\n",
      "Epoch: 101/14999 | Loss: 0.2327 | Episodes: 144 | Win count: 13 | Win rate: 3.000 | time: 24.11 minutes\n",
      "Epoch: 102/14999 | Loss: 0.2590 | Episodes: 139 | Win count: 13 | Win rate: 3.000 | time: 24.39 minutes\n",
      "Epoch: 103/14999 | Loss: 0.2330 | Episodes: 140 | Win count: 13 | Win rate: 3.000 | time: 24.67 minutes\n",
      "Epoch: 104/14999 | Loss: 0.1407 | Episodes: 144 | Win count: 13 | Win rate: 3.000 | time: 24.95 minutes\n",
      "Epoch: 105/14999 | Loss: 0.1515 | Episodes: 142 | Win count: 13 | Win rate: 3.000 | time: 25.24 minutes\n",
      "Epoch: 106/14999 | Loss: 0.1479 | Episodes: 139 | Win count: 13 | Win rate: 3.000 | time: 25.52 minutes\n",
      "Epoch: 107/14999 | Loss: 0.1585 | Episodes: 136 | Win count: 13 | Win rate: 3.000 | time: 25.79 minutes\n",
      "Epoch: 108/14999 | Loss: 0.1184 | Episodes: 134 | Win count: 13 | Win rate: 3.000 | time: 26.06 minutes\n",
      "Epoch: 109/14999 | Loss: 0.0883 | Episodes: 137 | Win count: 13 | Win rate: 3.000 | time: 26.33 minutes\n",
      "Epoch: 110/14999 | Loss: 0.0947 | Episodes: 134 | Win count: 13 | Win rate: 3.000 | time: 26.61 minutes\n",
      "Epoch: 111/14999 | Loss: 0.0973 | Episodes: 142 | Win count: 13 | Win rate: 3.000 | time: 26.88 minutes\n",
      "Epoch: 112/14999 | Loss: 0.0968 | Episodes: 130 | Win count: 13 | Win rate: 3.000 | time: 27.18 minutes\n",
      "Epoch: 113/14999 | Loss: 0.0800 | Episodes: 131 | Win count: 13 | Win rate: 3.000 | time: 27.45 minutes\n",
      "Epoch: 114/14999 | Loss: 0.0752 | Episodes: 136 | Win count: 13 | Win rate: 3.000 | time: 27.74 minutes\n",
      "Epoch: 115/14999 | Loss: 0.0684 | Episodes: 136 | Win count: 13 | Win rate: 3.000 | time: 27.94 minutes\n",
      "Epoch: 116/14999 | Loss: 0.0809 | Episodes: 137 | Win count: 13 | Win rate: 3.000 | time: 28.12 minutes\n",
      "Epoch: 117/14999 | Loss: 0.0806 | Episodes: 132 | Win count: 13 | Win rate: 3.000 | time: 28.32 minutes\n",
      "Epoch: 118/14999 | Loss: 0.0859 | Episodes: 137 | Win count: 13 | Win rate: 2.000 | time: 28.51 minutes\n",
      "Epoch: 119/14999 | Loss: 0.1074 | Episodes: 144 | Win count: 13 | Win rate: 2.000 | time: 28.74 minutes\n",
      "Epoch: 120/14999 | Loss: 0.1079 | Episodes: 134 | Win count: 13 | Win rate: 2.000 | time: 28.98 minutes\n",
      "Epoch: 121/14999 | Loss: 0.1092 | Episodes: 133 | Win count: 13 | Win rate: 2.000 | time: 29.17 minutes\n",
      "Epoch: 122/14999 | Loss: 0.1059 | Episodes: 136 | Win count: 13 | Win rate: 2.000 | time: 29.38 minutes\n",
      "Epoch: 123/14999 | Loss: 0.1107 | Episodes: 145 | Win count: 13 | Win rate: 1.000 | time: 29.60 minutes\n",
      "Epoch: 124/14999 | Loss: 0.0993 | Episodes: 136 | Win count: 13 | Win rate: 1.000 | time: 29.83 minutes\n",
      "Epoch: 125/14999 | Loss: 0.1245 | Episodes: 139 | Win count: 13 | Win rate: 1.000 | time: 30.07 minutes\n",
      "Epoch: 126/14999 | Loss: 0.1243 | Episodes: 139 | Win count: 13 | Win rate: 1.000 | time: 30.34 minutes\n",
      "Epoch: 127/14999 | Loss: 0.1101 | Episodes: 135 | Win count: 13 | Win rate: 1.000 | time: 30.60 minutes\n",
      "Epoch: 128/14999 | Loss: 0.0998 | Episodes: 135 | Win count: 13 | Win rate: 1.000 | time: 30.87 minutes\n",
      "Epoch: 129/14999 | Loss: 0.0976 | Episodes: 138 | Win count: 13 | Win rate: 1.000 | time: 31.12 minutes\n",
      "Epoch: 130/14999 | Loss: 0.0942 | Episodes: 137 | Win count: 13 | Win rate: 1.000 | time: 31.38 minutes\n",
      "Epoch: 131/14999 | Loss: 0.0953 | Episodes: 136 | Win count: 13 | Win rate: 0.000 | time: 31.65 minutes\n",
      "Epoch: 132/14999 | Loss: 0.0939 | Episodes: 132 | Win count: 13 | Win rate: 0.000 | time: 31.92 minutes\n",
      "Epoch: 133/14999 | Loss: 0.0734 | Episodes: 132 | Win count: 13 | Win rate: 0.000 | time: 32.18 minutes\n",
      "Epoch: 134/14999 | Loss: 0.0672 | Episodes: 134 | Win count: 13 | Win rate: 0.000 | time: 32.45 minutes\n",
      "Epoch: 135/14999 | Loss: 0.0571 | Episodes: 129 | Win count: 13 | Win rate: 0.000 | time: 32.72 minutes\n",
      "Epoch: 136/14999 | Loss: 0.0513 | Episodes: 133 | Win count: 13 | Win rate: 0.000 | time: 33.00 minutes\n",
      "Epoch: 137/14999 | Loss: 0.0470 | Episodes: 134 | Win count: 13 | Win rate: 0.000 | time: 33.26 minutes\n",
      "Epoch: 138/14999 | Loss: 0.0589 | Episodes: 140 | Win count: 13 | Win rate: 0.000 | time: 33.52 minutes\n",
      "Epoch: 139/14999 | Loss: 0.0842 | Episodes: 139 | Win count: 13 | Win rate: 0.000 | time: 33.79 minutes\n",
      "Epoch: 140/14999 | Loss: 0.1117 | Episodes: 136 | Win count: 13 | Win rate: 0.000 | time: 34.07 minutes\n",
      "Epoch: 141/14999 | Loss: 0.1444 | Episodes: 141 | Win count: 13 | Win rate: 0.000 | time: 34.35 minutes\n",
      "Epoch: 142/14999 | Loss: 0.1111 | Episodes: 134 | Win count: 13 | Win rate: 0.000 | time: 34.62 minutes\n",
      "Epoch: 143/14999 | Loss: 0.1091 | Episodes: 140 | Win count: 13 | Win rate: 0.000 | time: 34.92 minutes\n",
      "Epoch: 144/14999 | Loss: 0.1177 | Episodes: 143 | Win count: 13 | Win rate: 0.000 | time: 35.20 minutes\n",
      "Epoch: 145/14999 | Loss: 0.1131 | Episodes: 134 | Win count: 13 | Win rate: 0.000 | time: 35.48 minutes\n",
      "Epoch: 146/14999 | Loss: 0.1035 | Episodes: 134 | Win count: 13 | Win rate: 0.000 | time: 35.74 minutes\n",
      "Epoch: 147/14999 | Loss: 0.0917 | Episodes: 133 | Win count: 13 | Win rate: 0.000 | time: 36.01 minutes\n",
      "Epoch: 148/14999 | Loss: 0.0918 | Episodes: 142 | Win count: 13 | Win rate: 0.000 | time: 36.29 minutes\n",
      "Epoch: 149/14999 | Loss: 0.0919 | Episodes: 137 | Win count: 13 | Win rate: 0.000 | time: 36.55 minutes\n",
      "Epoch: 150/14999 | Loss: 0.1017 | Episodes: 136 | Win count: 13 | Win rate: 0.000 | time: 36.82 minutes\n",
      "Epoch: 151/14999 | Loss: 0.1121 | Episodes: 136 | Win count: 13 | Win rate: 0.000 | time: 37.10 minutes\n",
      "Epoch: 152/14999 | Loss: 0.1128 | Episodes: 138 | Win count: 13 | Win rate: 0.000 | time: 37.38 minutes\n",
      "Epoch: 153/14999 | Loss: 0.1109 | Episodes: 139 | Win count: 13 | Win rate: 0.000 | time: 37.70 minutes\n",
      "Epoch: 154/14999 | Loss: 0.0978 | Episodes: 134 | Win count: 13 | Win rate: 0.000 | time: 37.98 minutes\n",
      "Epoch: 155/14999 | Loss: 0.1016 | Episodes: 137 | Win count: 13 | Win rate: 0.000 | time: 38.25 minutes\n",
      "Epoch: 156/14999 | Loss: 0.0971 | Episodes: 137 | Win count: 13 | Win rate: 0.000 | time: 38.52 minutes\n",
      "Epoch: 157/14999 | Loss: 0.0821 | Episodes: 133 | Win count: 13 | Win rate: 0.000 | time: 38.79 minutes\n",
      "Epoch: 158/14999 | Loss: 0.1032 | Episodes: 139 | Win count: 13 | Win rate: 0.000 | time: 39.05 minutes\n",
      "Epoch: 159/14999 | Loss: 0.0841 | Episodes: 134 | Win count: 13 | Win rate: 0.000 | time: 39.32 minutes\n",
      "Epoch: 160/14999 | Loss: 0.0795 | Episodes: 136 | Win count: 13 | Win rate: 0.000 | time: 39.60 minutes\n"
     ]
    }
   ],
   "source": [
    "model = build_model(maze)\n",
    "qtrain(model, maze, epochs=1000, max_memory=8*maze.size, data_size=32)"
   ]
  },
  {
   "cell_type": "markdown",
   "metadata": {},
   "source": [
    "This cell will check to see if the model passes the completion check. Note: This could take several minutes."
   ]
  },
  {
   "cell_type": "code",
   "execution_count": null,
   "metadata": {},
   "outputs": [],
   "source": [
    "completion_check(model, qmaze)\n",
    "show(qmaze)"
   ]
  },
  {
   "cell_type": "markdown",
   "metadata": {},
   "source": [
    "This cell will test your model for one game. It will start the pirate at the top-left corner and run play_game. The agent should find a path from the starting position to the target (treasure). The treasure is located in the bottom-right corner."
   ]
  },
  {
   "cell_type": "code",
   "execution_count": null,
   "metadata": {},
   "outputs": [],
   "source": [
    "pirate_start = (0, 0)\n",
    "play_game(model, qmaze, pirate_start)\n",
    "show(qmaze)"
   ]
  },
  {
   "cell_type": "markdown",
   "metadata": {},
   "source": [
    "## Save and Submit Your Work\n",
    "After you have finished creating the code for your notebook, save your work. Make sure that your notebook contains your name in the filename (e.g. Doe_Jane_ProjectTwo.ipynb). This will help your instructor access and grade your work easily. Download a copy of your IPYNB file and submit it to Brightspace. Refer to the Jupyter Notebook in Apporto Tutorial if you need help with these tasks."
   ]
  }
 ],
 "metadata": {
  "kernelspec": {
   "display_name": "Python 3",
   "language": "python",
   "name": "python3"
  },
  "language_info": {
   "codemirror_mode": {
    "name": "ipython",
    "version": 3
   },
   "file_extension": ".py",
   "mimetype": "text/x-python",
   "name": "python",
   "nbconvert_exporter": "python",
   "pygments_lexer": "ipython3",
   "version": "3.7.4"
  }
 },
 "nbformat": 4,
 "nbformat_minor": 2
}
